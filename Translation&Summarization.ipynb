{
 "cells": [
  {
   "cell_type": "code",
   "execution_count": 4,
   "id": "4d8f2ffa-5cbc-4480-9d78-cf5cf11c6eb5",
   "metadata": {},
   "outputs": [
    {
     "name": "stdout",
     "output_type": "stream",
     "text": [
      "English: I love travelling and chatting with friends.\n",
      "Telugu: నాకు ప్రయాణించడం మరియు స్నేహితులతో మాట్లాడడం ఇష్టం.\n",
      "English: I love travelling and chatting with friends, and I don't like to watch history series.\n",
      "Telugu: నాకు ప్రయాణించడం, స్నేహితులతో మాట్లాడడం ఇష్టం, అయితే నాకు చరిత్ర సిరీస్ చూడటం నచ్చని.\n",
      "Model and tokenizer loaded successfully!\n"
     ]
    },
    {
     "name": "stderr",
     "output_type": "stream",
     "text": [
      "Device set to use cpu\n"
     ]
    },
    {
     "name": "stdout",
     "output_type": "stream",
     "text": [
      "Summary: Suresh Raina and MS Dhoni were teammates in the Indian Premier League. Raina earned the nickname \"Mr. IPL\" for his match-winning performances. The pair became close friends after Raina retired from international cricket\n",
      "Loss function loaded: <function sparse_softmax_cross_entropy at 0x0000024A280FB240>\n"
     ]
    }
   ],
   "source": [
    "# Install necessary packages\n",
    "!pip install -q transformers torch tensorflow flax tf-keras openai\n",
    "\n",
    "# Import necessary libraries\n",
    "import openai\n",
    "from transformers import AutoModel, AutoTokenizer, pipeline\n",
    "import os\n",
    "import tensorflow as tf\n",
    "\n",
    "# Set API key and configurations\n",
    "openai.api_key = \"Your_OPENAI_API_KEY_HERE\"\n",
    "os.environ[\"HF_HUB_DISABLE_SYMLINKS_WARNING\"] = \"1\"\n",
    "\n",
    "# Function to translate English to Telugu\n",
    "def translate_to_telugu(text, with_examples=False):\n",
    "    try:\n",
    "        # Add examples if specified\n",
    "        messages = [{\"role\": \"system\", \"content\": \"You are a helpful assistant that translates English to Telugu.\"}]\n",
    "        if with_examples:\n",
    "            examples = [\n",
    "                {\"role\": \"user\", \"content\": \"Hello, how are you?\"},\n",
    "                {\"role\": \"assistant\", \"content\": \"హలో, మీరు ఎలా ఉన్నారు? 😊\"},\n",
    "                {\"role\": \"user\", \"content\": \"What is your name?\"},\n",
    "                {\"role\": \"assistant\", \"content\": \"మీ పేరు ఏమిటి? 🤔\"},\n",
    "                {\"role\": \"user\", \"content\": \"I enjoy reading books.\"},\n",
    "                {\"role\": \"assistant\", \"content\": \"నేను పుస్తకాలు చదవడం ఇష్టపడతాను. 📚\"},\n",
    "            ]\n",
    "            messages.extend(examples)\n",
    "        messages.append({\"role\": \"user\", \"content\": text})\n",
    "        response = openai.ChatCompletion.create(model=\"gpt-4\", messages=messages)\n",
    "        return response.choices[0].message[\"content\"]\n",
    "    except Exception as e:\n",
    "        return f\"An error occurred: {e}\"\n",
    "\n",
    "# Example translations\n",
    "text1 = \"I love travelling and chatting with friends.\"\n",
    "print(\"English:\", text1)\n",
    "print(\"Telugu:\", translate_to_telugu(text1))\n",
    "\n",
    "text2 = \"I love travelling and chatting with friends, and I don't like to watch history series.\"\n",
    "print(\"English:\", text2)\n",
    "print(\"Telugu:\", translate_to_telugu(text2, with_examples=True))\n",
    "\n",
    "# Load and test a transformer model and tokenizer\n",
    "tokenizer = AutoTokenizer.from_pretrained(\"bert-base-uncased\")\n",
    "model = AutoModel.from_pretrained(\"bert-base-uncased\")\n",
    "print(\"Model and tokenizer loaded successfully!\")\n",
    "\n",
    "# Summarization using BART\n",
    "summarizer = pipeline(\"summarization\", model=\"facebook/bart-large-cnn\")\n",
    "summary_text = summarizer(\n",
    "    \"\"\"Suresh Raina was best known in the 2010s for his explosive batting in IPL matches and his consistent performances in international cricket for India, while MS Dhoni, his captain and longtime teammate, was already an iconic figure in Indian cricket. Despite their different playing styles, Raina and Dhoni became fast friends and trusted collaborators on the field, a bond that continued even after Raina retired from international cricket. Together, they led Chennai Super Kings to several IPL titles, with Raina being the backbone of the team's middle order and earning a reputation as \"Mr. IPL\" for his match-winning performances.\"\"\",\n",
    "    min_length=20,\n",
    "    max_length=50\n",
    ")\n",
    "print(\"Summary:\", summary_text[0][\"summary_text\"])\n",
    "\n",
    "# TensorFlow loss function example\n",
    "loss_fn = tf.compat.v1.losses.sparse_softmax_cross_entropy\n",
    "print(\"Loss function loaded:\", loss_fn)\n"
   ]
  },
  {
   "cell_type": "code",
   "execution_count": null,
   "id": "dcad329c-4804-49e9-840e-55f5f5c81a1a",
   "metadata": {},
   "outputs": [],
   "source": []
  }
 ],
 "metadata": {
  "kernelspec": {
   "display_name": "Python 3 (ipykernel)",
   "language": "python",
   "name": "python3"
  },
  "language_info": {
   "codemirror_mode": {
    "name": "ipython",
    "version": 3
   },
   "file_extension": ".py",
   "mimetype": "text/x-python",
   "name": "python",
   "nbconvert_exporter": "python",
   "pygments_lexer": "ipython3",
   "version": "3.12.7"
  }
 },
 "nbformat": 4,
 "nbformat_minor": 5
}
